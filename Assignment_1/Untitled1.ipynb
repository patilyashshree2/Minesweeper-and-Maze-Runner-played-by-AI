{
 "cells": [
  {
   "cell_type": "code",
   "execution_count": 19,
   "metadata": {},
   "outputs": [],
   "source": [
    "import math\n",
    "import matplotlib.pyplot as plt\n",
    "from matplotlib import colors"
   ]
  },
  {
   "cell_type": "code",
   "execution_count": 20,
   "metadata": {},
   "outputs": [],
   "source": [
    "import random\n",
    "def genMaze(dim,p):\n",
    "    maze = []\n",
    "    for x in range(dim):\n",
    "        row = []\n",
    "        for y in range(dim):\n",
    "            if random.random() > p:\n",
    "                row.append(0)\n",
    "            else :\n",
    "                row.append(1)\n",
    "        maze.append(row)\n",
    "    maze[0][0] = 0\n",
    "    maze[dim-1][dim-1] = 0\n",
    "    return maze"
   ]
  },
  {
   "cell_type": "code",
   "execution_count": 21,
   "metadata": {},
   "outputs": [],
   "source": [
    "maze = genMaze(20,0.20)"
   ]
  },
  {
   "cell_type": "code",
   "execution_count": 22,
   "metadata": {},
   "outputs": [
    {
     "data": {
      "text/plain": [
       "[[0, 0, 0, 0, 0, 0, 0, 0, 1, 0, 0, 0, 0, 0, 0, 1, 0, 0, 0, 0],\n",
       " [1, 0, 0, 0, 0, 1, 0, 0, 0, 0, 0, 0, 1, 0, 0, 0, 1, 1, 0, 1],\n",
       " [0, 0, 0, 0, 0, 0, 1, 0, 0, 1, 0, 1, 0, 0, 0, 0, 0, 0, 0, 0],\n",
       " [0, 0, 0, 0, 0, 0, 0, 0, 0, 0, 0, 0, 1, 0, 1, 0, 0, 0, 0, 0],\n",
       " [0, 0, 0, 0, 0, 0, 1, 0, 0, 0, 0, 1, 0, 0, 0, 0, 0, 0, 0, 1],\n",
       " [0, 0, 0, 0, 0, 1, 0, 0, 0, 0, 1, 0, 0, 0, 0, 0, 0, 0, 0, 0],\n",
       " [1, 0, 0, 1, 1, 0, 1, 0, 1, 0, 1, 0, 0, 0, 0, 1, 0, 1, 0, 0],\n",
       " [0, 0, 0, 0, 0, 0, 0, 0, 0, 0, 1, 0, 1, 0, 1, 0, 0, 0, 0, 0],\n",
       " [0, 0, 0, 1, 0, 0, 0, 0, 0, 0, 1, 0, 0, 0, 0, 0, 1, 0, 1, 0],\n",
       " [0, 0, 0, 0, 0, 0, 1, 0, 1, 0, 0, 0, 0, 0, 0, 0, 0, 0, 0, 0],\n",
       " [0, 1, 0, 0, 0, 0, 0, 0, 0, 0, 0, 1, 0, 1, 1, 0, 0, 0, 0, 0],\n",
       " [0, 0, 0, 0, 0, 1, 0, 0, 0, 0, 1, 0, 0, 0, 0, 0, 0, 0, 0, 1],\n",
       " [0, 0, 0, 0, 1, 1, 0, 0, 0, 1, 0, 0, 0, 0, 0, 1, 1, 1, 1, 1],\n",
       " [0, 1, 0, 0, 0, 0, 0, 0, 1, 0, 0, 0, 0, 0, 0, 0, 0, 0, 0, 0],\n",
       " [0, 0, 1, 0, 0, 0, 0, 1, 0, 0, 0, 0, 0, 0, 0, 0, 0, 1, 0, 0],\n",
       " [0, 0, 0, 1, 1, 0, 0, 0, 0, 0, 0, 0, 0, 0, 0, 0, 0, 1, 1, 0],\n",
       " [0, 0, 0, 0, 1, 1, 0, 1, 1, 0, 0, 0, 0, 0, 0, 1, 0, 0, 0, 0],\n",
       " [0, 0, 0, 0, 0, 0, 0, 0, 0, 0, 0, 0, 0, 0, 0, 0, 0, 1, 0, 0],\n",
       " [0, 1, 1, 1, 0, 0, 1, 1, 0, 0, 0, 0, 1, 0, 0, 0, 0, 0, 0, 0],\n",
       " [0, 0, 0, 1, 0, 0, 0, 0, 0, 1, 0, 1, 0, 1, 0, 0, 1, 0, 1, 0]]"
      ]
     },
     "execution_count": 22,
     "metadata": {},
     "output_type": "execute_result"
    }
   ],
   "source": [
    "maze"
   ]
  },
  {
   "cell_type": "code",
   "execution_count": 23,
   "metadata": {},
   "outputs": [],
   "source": [
    "def draw(maze):\n",
    "  blocked = \"⬛\"\n",
    "  free = \"⬜\"\n",
    "  for row in maze:\n",
    "    tiles = \"\"\n",
    "    for tile in row:\n",
    "      tiles += blocked if tile==1 else free\n",
    "    print(tiles)"
   ]
  },
  {
   "cell_type": "code",
   "execution_count": 24,
   "metadata": {},
   "outputs": [
    {
     "name": "stdout",
     "output_type": "stream",
     "text": [
      "⬜⬜⬜⬜⬜⬜⬜⬜⬛⬜⬜⬜⬜⬜⬜⬛⬜⬜⬜⬜\n",
      "⬛⬜⬜⬜⬜⬛⬜⬜⬜⬜⬜⬜⬛⬜⬜⬜⬛⬛⬜⬛\n",
      "⬜⬜⬜⬜⬜⬜⬛⬜⬜⬛⬜⬛⬜⬜⬜⬜⬜⬜⬜⬜\n",
      "⬜⬜⬜⬜⬜⬜⬜⬜⬜⬜⬜⬜⬛⬜⬛⬜⬜⬜⬜⬜\n",
      "⬜⬜⬜⬜⬜⬜⬛⬜⬜⬜⬜⬛⬜⬜⬜⬜⬜⬜⬜⬛\n",
      "⬜⬜⬜⬜⬜⬛⬜⬜⬜⬜⬛⬜⬜⬜⬜⬜⬜⬜⬜⬜\n",
      "⬛⬜⬜⬛⬛⬜⬛⬜⬛⬜⬛⬜⬜⬜⬜⬛⬜⬛⬜⬜\n",
      "⬜⬜⬜⬜⬜⬜⬜⬜⬜⬜⬛⬜⬛⬜⬛⬜⬜⬜⬜⬜\n",
      "⬜⬜⬜⬛⬜⬜⬜⬜⬜⬜⬛⬜⬜⬜⬜⬜⬛⬜⬛⬜\n",
      "⬜⬜⬜⬜⬜⬜⬛⬜⬛⬜⬜⬜⬜⬜⬜⬜⬜⬜⬜⬜\n",
      "⬜⬛⬜⬜⬜⬜⬜⬜⬜⬜⬜⬛⬜⬛⬛⬜⬜⬜⬜⬜\n",
      "⬜⬜⬜⬜⬜⬛⬜⬜⬜⬜⬛⬜⬜⬜⬜⬜⬜⬜⬜⬛\n",
      "⬜⬜⬜⬜⬛⬛⬜⬜⬜⬛⬜⬜⬜⬜⬜⬛⬛⬛⬛⬛\n",
      "⬜⬛⬜⬜⬜⬜⬜⬜⬛⬜⬜⬜⬜⬜⬜⬜⬜⬜⬜⬜\n",
      "⬜⬜⬛⬜⬜⬜⬜⬛⬜⬜⬜⬜⬜⬜⬜⬜⬜⬛⬜⬜\n",
      "⬜⬜⬜⬛⬛⬜⬜⬜⬜⬜⬜⬜⬜⬜⬜⬜⬜⬛⬛⬜\n",
      "⬜⬜⬜⬜⬛⬛⬜⬛⬛⬜⬜⬜⬜⬜⬜⬛⬜⬜⬜⬜\n",
      "⬜⬜⬜⬜⬜⬜⬜⬜⬜⬜⬜⬜⬜⬜⬜⬜⬜⬛⬜⬜\n",
      "⬜⬛⬛⬛⬜⬜⬛⬛⬜⬜⬜⬜⬛⬜⬜⬜⬜⬜⬜⬜\n",
      "⬜⬜⬜⬛⬜⬜⬜⬜⬜⬛⬜⬛⬜⬛⬜⬜⬛⬜⬛⬜\n"
     ]
    }
   ],
   "source": [
    "draw(maze)"
   ]
  },
  {
   "cell_type": "code",
   "execution_count": 29,
   "metadata": {},
   "outputs": [],
   "source": [
    "def DFS(data,dim):\n",
    "    \n",
    "    #initialize i and j to 0\n",
    "    i = 0\n",
    "    j = 0\n",
    "    \n",
    "    # initialize visited = empty and fringe to the top left tile(Source node) i.e.[0,0].\n",
    "    # visited is the list of tiles visited while traversing through the maze.\n",
    "    \n",
    "    visited = []\n",
    "    fringe = [[0,0]]                                  # fringe stores the co-ordinate value of the tiles\n",
    "\n",
    "    \n",
    "    while len(fringe) != 0 :                          # More Tiles are available to traverse\n",
    "        current = fringe.pop()                        # current is a variable assigned to the elements of fringe when poped\n",
    "        visited.append(current)                       # current is the tile on which we are at the present state. Hence, add it to the list of visited nodes\n",
    "        \n",
    "        # Assign the co-ordinates of current to i and j\n",
    "        i = current[0]                             \n",
    "        j = current[1]\n",
    "        \n",
    "        # If (i,j) is the Goal State, print Goal state Reached and the nodes visited while traversing\n",
    "        if i == (dim-1) and j == (dim-1) :             \n",
    "            print(\"goal state reached\")\n",
    "            print(\"visited nodes are\")\n",
    "            print(visited)\n",
    "            return(visited)\n",
    "\n",
    "        # If Goal state not reached the search for the neighboring tiles\n",
    "        else :\n",
    "            \n",
    "            if i==0 and j==0 :                        # If current state is the state state \n",
    "                \n",
    "                # possible directions of traversing are Right and Lower tile\n",
    "                if data[i+1][j] != 1 and [i+1,j] not in visited and [i+1,j] not in fringe: # For the lower tile, if not present in visited tiles list and not previsely added to the fringe list as well, then append it to fringe\n",
    "                    fringe.append([i+1,j])\n",
    "                    \n",
    "                if data[i][j+1] != 1 and [i,j+1] not in visited and [i,j+1] not in fringe: # For the Right tile, if not present in visited tiles list and not previsely added to the fringe list as well, then append it to fringe\n",
    "                    fringe.append([i,j+1])\n",
    "                    \n",
    "            if i>=1 and j>=1 and i<(dim-1) and j<(dim-1) : # If current tile is present in inner part on the maze (not attached to any edge of the maze)\n",
    "                \n",
    "                # posssible directions of expansion are Left, Upper, Lower and Right tile\n",
    "                if data[i][j-1] != 1 and [i,j-1] not in visited and [i,j-1] not in fringe: # For the left tile, if not present in visited tiles list and not previsely added to the fringe list as well, then append it to fringe\n",
    "                    fringe.append([i,j-1])\n",
    "               \n",
    "                if data[i-1][j] != 1 and [i-1,j] not in visited and [i-1,j] not in fringe: # For the Upper tile, if not present in visited tiles list and not previsely added to the fringe list as well, then append it to fringe\n",
    "                    fringe.append([i-1,j])\n",
    "             \n",
    "                if data[i+1][j] != 1 and [i+1,j] not in visited and [i+1,j] not in fringe: # For the lower tile, if not present in visited tiles list and not previsely added to the fringe list as well, then append it to fringe\n",
    "                    fringe.append([i+1,j])\n",
    "              \n",
    "                if data[i][j+1] != 1 and [i,j+1] not in visited and [i,j+1] not in fringe: # For the Right tile, if not present in visited tiles list and not previsely added to the fringe list as well, then append it to fringe\n",
    "                    fringe.append([i,j+1])\n",
    "              \n",
    "                    \n",
    "            if i==0 and j <(dim-1) and j >= 1 : # If current tile is present in the first row (Top edge of the maze) excluding First(source tile) and right most tile(last tile of the first row)\n",
    "                \n",
    "                # possible directions of expansion are Left, Lower and Right tile\n",
    "                if data[i][j-1] != 1 and [i,j-1] not in visited and [i,j-1] not in fringe: # For the left tile, if not present in visited tiles list and not previsely added to the fringe list as well, then append it to fringe\n",
    "                    fringe.append([i,j-1])\n",
    "                    \n",
    "                if data[i+1][j] != 1 and [i+1,j] not in visited and [i+1,j] not in fringe: # For the lower tile, if not present in visited tiles list and not previsely added to the fringe list as well, then append it to fringe\n",
    "                    fringe.append([i+1,j])\n",
    "                 \n",
    "                if data[i][j+1] != 1 and [i,j+1] not in visited and [i,j+1] not in fringe : # For the Right tile, if not present in visited tiles list and not previsely added to the fringe list as well, then append it to fringe\n",
    "                    fringe.append([i,j+1])\n",
    "                   \n",
    "                    \n",
    "            if i==0 and j==(dim-1) : # If the current tile is top Right corner tile( first row last tile)\n",
    "                \n",
    "                # possible directions of expansion are Left and Lower tile\n",
    "                if data[i][j-1] != 1 and [i,j-1] not in visited and [i,j-1] not in fringe: # For the left tile, if not present in visited tiles list and not previsely added to the fringe list as well, then append it to fringe\n",
    "                    fringe.append([i,j-1])\n",
    "                  \n",
    "                if data[i+1][j] != 1 and [i+1,j] not in visited and [i+1,j] not in fringe: # For the lower tile, if not present in visited tiles list and not previsely added to the fringe list as well, then append it to fringe\n",
    "                    fringe.append([i+1,j])\n",
    "                 \n",
    "                    \n",
    "            if i<(dim-1) and i>=1 and j==0 : # If the current tile is present in first column(left edge of the maze) excluding start and the bottom most tile \n",
    "                \n",
    "                # possible directions of expansion are Upper, Lower and Right tile\n",
    "                if data[i-1][j] != 1 and [i-1,j] not in visited and [i-1,j] not in fringe: # For the Upper tile, if not present in visited tiles list and not previsely added to the fringe list as well, then append it to fringe\n",
    "                    fringe.append([i-1,j])\n",
    "                  \n",
    "                if data[i+1][j] != 1 and [i+1,j] not in visited and [i+1,j] not in fringe: # For the lower tile, if not present in visited tiles list and not previsely added to the fringe list as well, then append it to fringe\n",
    "                    fringe.append([i+1,j])\n",
    "                \n",
    "                if data[i][j+1] != 1 and [i,j+1] not in visited and [i,j+1] not in fringe: # For the Right tile, if not present in visited tiles list and not previsely added to the fringe list as well, then append it to fringe\n",
    "                    fringe.append([i,j+1])\n",
    "                    \n",
    "                    \n",
    "            if i==(dim-1) and j!=0 and j<(dim-1) : # If the current tile is present in last row(lower edge of the maze) excluding the first(left most) and goal tile\n",
    "                \n",
    "                # possible directions of expansion are Left, Upper and Right tile\n",
    "                if data[i][j-1] != 1 and [i,j-1] not in visited and [i,j-1] not in fringe: # For the left tile, if not present in visited tiles list and not previsely added to the fringe list as well, then append it to fringe\n",
    "                    fringe.append([i,j-1])\n",
    "                  \n",
    "                if data[i-1][j] !=1 and [i-1,j] not in visited and [i-1,j] not in fringe: # For the Upper tile, if not present in visited tiles list and not previsely added to the fringe list as well, then append it to fringe\n",
    "                    fringe.append([i-1,j])\n",
    "                    \n",
    "                if data[i][j+1] != 1 and [i,j+1] not in visited and [i,j+1] not in fringe: # For the Right tile, if not present in visited tiles list and not previsely added to the fringe list as well, then append it to fringe\n",
    "                    fringe.append([i,j+1])\n",
    "               \n",
    "                    \n",
    "            if j==(dim-1) and i>0 and i<(dim-1) : # If the current tile is present in Right edge of the maze(last column) excluding first(topmost) and goal tile\n",
    "                \n",
    "                # possible directions of expansion are Left, Upper and Lower tile\n",
    "                if data[i][j-1] !=1 and [i,j-1] not in visited and [i,j-1] not in fringe: # For the left tile, if not present in visited tiles list and not previsely added to the fringe list as well, then append it to fringe\n",
    "                    fringe.append([i,j-1])\n",
    "                  \n",
    "                if data[i-1][j] !=1 and [i-1,j] not in visited and [i-1,j] not in fringe: # For the Upper tile, if not present in visited tiles list and not previsely added to the fringe list as well, then append it to fringe\n",
    "                    fringe.append([i-1,j])\n",
    "                \n",
    "                if data[i+1][j] != 1 and [i+1,j] not in visited and [i+1,j] not in fringe: # For the lower tile, if not present in visited tiles list and not previsely added to the fringe list as well, then append it to fringe\n",
    "                    fringe.append([i+1,j])\n",
    "                    \n",
    "                    \n",
    "            if i==(dim-1) and j==0 : # If the current tile is bottom left corner\n",
    "                \n",
    "                # possible directions of expansion are Upper and Right tile\n",
    "                if data[i-1][j] != 1 and [i-1,j] not in visited and [i-1,j] not in fringe: # For the Upper tile, if not present in visited tiles list and not previsely added to the fringe list as well, then append it to fringe\n",
    "                    fringe.append([i-1,j])\n",
    "                  \n",
    "                if data[i][j+1] != 1 and [i,j+1] not in visited and [i,j+1] not in fringe: # For the Right tile, if not present in visited tiles list and not previsely added to the fringe list as well, then append it to fringe\n",
    "                    fringe.append([i,j+1])\n",
    "                  \n",
    "                                \n",
    "    if len(fringe) == 0 :\n",
    "        print(\"solution not found\")\n",
    "                    \n",
    "            "
   ]
  },
  {
   "cell_type": "code",
   "execution_count": 30,
   "metadata": {},
   "outputs": [
    {
     "name": "stdout",
     "output_type": "stream",
     "text": [
      "goal state reached\n",
      "visited nodes are\n",
      "[[0, 0], [0, 1], [0, 2], [0, 3], [0, 4], [0, 5], [0, 6], [0, 7], [1, 7], [1, 8], [1, 9], [1, 10], [1, 11], [0, 11], [0, 12], [0, 13], [0, 14], [1, 14], [1, 15], [2, 15], [2, 16], [2, 17], [2, 18], [2, 19], [3, 19], [3, 18], [4, 18], [5, 18], [5, 19], [6, 19], [7, 19], [8, 19], [9, 19], [10, 19], [10, 18], [11, 18], [11, 17], [11, 16], [10, 16], [9, 16], [9, 17], [8, 17], [7, 17], [7, 16], [6, 16], [5, 16], [4, 16], [4, 15], [4, 14], [5, 14], [6, 14], [6, 13], [7, 13], [8, 13], [8, 14], [8, 15], [9, 14], [9, 13], [9, 12], [10, 12], [11, 12], [11, 13], [11, 14], [12, 14], [13, 14], [13, 15], [13, 16], [13, 17], [13, 18], [13, 19], [14, 19], [15, 19], [16, 19], [17, 19], [18, 19], [19, 19]]\n"
     ]
    }
   ],
   "source": [
    "visited = DFS(maze,20)"
   ]
  },
  {
   "cell_type": "code",
   "execution_count": 31,
   "metadata": {},
   "outputs": [],
   "source": [
    "maze1 = maze\n",
    "def soln_maze(maze,visited):\n",
    "    for ele in visited:\n",
    "        maze[ele[0]][ele[1]] = 2\n",
    "    "
   ]
  },
  {
   "cell_type": "code",
   "execution_count": 32,
   "metadata": {},
   "outputs": [],
   "source": [
    "soln_maze(maze1,visited)"
   ]
  },
  {
   "cell_type": "code",
   "execution_count": 33,
   "metadata": {},
   "outputs": [
    {
     "data": {
      "text/plain": [
       "[[2, 2, 2, 2, 2, 2, 2, 2, 1, 0, 0, 2, 2, 2, 2, 1, 0, 0, 0, 0],\n",
       " [1, 0, 0, 0, 0, 1, 0, 2, 2, 2, 2, 2, 1, 0, 2, 2, 1, 1, 0, 1],\n",
       " [0, 0, 0, 0, 0, 0, 1, 0, 0, 1, 0, 1, 0, 0, 0, 2, 2, 2, 2, 2],\n",
       " [0, 0, 0, 0, 0, 0, 0, 0, 0, 0, 0, 0, 1, 0, 1, 0, 0, 0, 2, 2],\n",
       " [0, 0, 0, 0, 0, 0, 1, 0, 0, 0, 0, 1, 0, 0, 2, 2, 2, 0, 2, 1],\n",
       " [0, 0, 0, 0, 0, 1, 0, 0, 0, 0, 1, 0, 0, 0, 2, 0, 2, 0, 2, 2],\n",
       " [1, 0, 0, 1, 1, 0, 1, 0, 1, 0, 1, 0, 0, 2, 2, 1, 2, 1, 0, 2],\n",
       " [0, 0, 0, 0, 0, 0, 0, 0, 0, 0, 1, 0, 1, 2, 1, 0, 2, 2, 0, 2],\n",
       " [0, 0, 0, 1, 0, 0, 0, 0, 0, 0, 1, 0, 0, 2, 2, 2, 1, 2, 1, 2],\n",
       " [0, 0, 0, 0, 0, 0, 1, 0, 1, 0, 0, 0, 2, 2, 2, 0, 2, 2, 0, 2],\n",
       " [0, 1, 0, 0, 0, 0, 0, 0, 0, 0, 0, 1, 2, 1, 1, 0, 2, 0, 2, 2],\n",
       " [0, 0, 0, 0, 0, 1, 0, 0, 0, 0, 1, 0, 2, 2, 2, 0, 2, 2, 2, 1],\n",
       " [0, 0, 0, 0, 1, 1, 0, 0, 0, 1, 0, 0, 0, 0, 2, 1, 1, 1, 1, 1],\n",
       " [0, 1, 0, 0, 0, 0, 0, 0, 1, 0, 0, 0, 0, 0, 2, 2, 2, 2, 2, 2],\n",
       " [0, 0, 1, 0, 0, 0, 0, 1, 0, 0, 0, 0, 0, 0, 0, 0, 0, 1, 0, 2],\n",
       " [0, 0, 0, 1, 1, 0, 0, 0, 0, 0, 0, 0, 0, 0, 0, 0, 0, 1, 1, 2],\n",
       " [0, 0, 0, 0, 1, 1, 0, 1, 1, 0, 0, 0, 0, 0, 0, 1, 0, 0, 0, 2],\n",
       " [0, 0, 0, 0, 0, 0, 0, 0, 0, 0, 0, 0, 0, 0, 0, 0, 0, 1, 0, 2],\n",
       " [0, 1, 1, 1, 0, 0, 1, 1, 0, 0, 0, 0, 1, 0, 0, 0, 0, 0, 0, 2],\n",
       " [0, 0, 0, 1, 0, 0, 0, 0, 0, 1, 0, 1, 0, 1, 0, 0, 1, 0, 1, 2]]"
      ]
     },
     "execution_count": 33,
     "metadata": {},
     "output_type": "execute_result"
    }
   ],
   "source": [
    "maze1"
   ]
  },
  {
   "cell_type": "code",
   "execution_count": 34,
   "metadata": {},
   "outputs": [],
   "source": [
    "def draw_soln(maze1):\n",
    "    blocked = \"⬛\"\n",
    "    free = \"⬜\"\n",
    "    final_path = \"📍\"\n",
    "    for row in maze1:\n",
    "        tiles = \"\"\n",
    "        for tile in row:\n",
    "            #tiles += blocked if tile==1 else free\n",
    "            if tile == 2:\n",
    "                tiles += final_path\n",
    "            if tile == 1:\n",
    "                tiles += blocked\n",
    "            if tile == 0:\n",
    "                tiles += free\n",
    "        print(tiles)"
   ]
  },
  {
   "cell_type": "code",
   "execution_count": 36,
   "metadata": {},
   "outputs": [
    {
     "name": "stdout",
     "output_type": "stream",
     "text": [
      "📍📍📍📍📍📍📍📍⬛⬜⬜📍📍📍📍⬛⬜⬜⬜⬜\n",
      "⬛⬜⬜⬜⬜⬛⬜📍📍📍📍📍⬛⬜📍📍⬛⬛⬜⬛\n",
      "⬜⬜⬜⬜⬜⬜⬛⬜⬜⬛⬜⬛⬜⬜⬜📍📍📍📍📍\n",
      "⬜⬜⬜⬜⬜⬜⬜⬜⬜⬜⬜⬜⬛⬜⬛⬜⬜⬜📍📍\n",
      "⬜⬜⬜⬜⬜⬜⬛⬜⬜⬜⬜⬛⬜⬜📍📍📍⬜📍⬛\n",
      "⬜⬜⬜⬜⬜⬛⬜⬜⬜⬜⬛⬜⬜⬜📍⬜📍⬜📍📍\n",
      "⬛⬜⬜⬛⬛⬜⬛⬜⬛⬜⬛⬜⬜📍📍⬛📍⬛⬜📍\n",
      "⬜⬜⬜⬜⬜⬜⬜⬜⬜⬜⬛⬜⬛📍⬛⬜📍📍⬜📍\n",
      "⬜⬜⬜⬛⬜⬜⬜⬜⬜⬜⬛⬜⬜📍📍📍⬛📍⬛📍\n",
      "⬜⬜⬜⬜⬜⬜⬛⬜⬛⬜⬜⬜📍📍📍⬜📍📍⬜📍\n",
      "⬜⬛⬜⬜⬜⬜⬜⬜⬜⬜⬜⬛📍⬛⬛⬜📍⬜📍📍\n",
      "⬜⬜⬜⬜⬜⬛⬜⬜⬜⬜⬛⬜📍📍📍⬜📍📍📍⬛\n",
      "⬜⬜⬜⬜⬛⬛⬜⬜⬜⬛⬜⬜⬜⬜📍⬛⬛⬛⬛⬛\n",
      "⬜⬛⬜⬜⬜⬜⬜⬜⬛⬜⬜⬜⬜⬜📍📍📍📍📍📍\n",
      "⬜⬜⬛⬜⬜⬜⬜⬛⬜⬜⬜⬜⬜⬜⬜⬜⬜⬛⬜📍\n",
      "⬜⬜⬜⬛⬛⬜⬜⬜⬜⬜⬜⬜⬜⬜⬜⬜⬜⬛⬛📍\n",
      "⬜⬜⬜⬜⬛⬛⬜⬛⬛⬜⬜⬜⬜⬜⬜⬛⬜⬜⬜📍\n",
      "⬜⬜⬜⬜⬜⬜⬜⬜⬜⬜⬜⬜⬜⬜⬜⬜⬜⬛⬜📍\n",
      "⬜⬛⬛⬛⬜⬜⬛⬛⬜⬜⬜⬜⬛⬜⬜⬜⬜⬜⬜📍\n",
      "⬜⬜⬜⬛⬜⬜⬜⬜⬜⬛⬜⬛⬜⬛⬜⬜⬛⬜⬛📍\n"
     ]
    }
   ],
   "source": [
    "draw_soln(maze1)"
   ]
  },
  {
   "cell_type": "code",
   "execution_count": null,
   "metadata": {},
   "outputs": [],
   "source": []
  },
  {
   "cell_type": "code",
   "execution_count": null,
   "metadata": {},
   "outputs": [],
   "source": []
  }
 ],
 "metadata": {
  "kernelspec": {
   "display_name": "Python 3",
   "language": "python",
   "name": "python3"
  },
  "language_info": {
   "codemirror_mode": {
    "name": "ipython",
    "version": 3
   },
   "file_extension": ".py",
   "mimetype": "text/x-python",
   "name": "python",
   "nbconvert_exporter": "python",
   "pygments_lexer": "ipython3",
   "version": "3.7.3"
  }
 },
 "nbformat": 4,
 "nbformat_minor": 2
}
